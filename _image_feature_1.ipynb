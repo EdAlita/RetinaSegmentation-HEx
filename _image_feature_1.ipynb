{
 "cells": [
  {
   "cell_type": "code",
   "execution_count": 8,
   "metadata": {},
   "outputs": [],
   "source": [
    "import os\n",
    "import numpy as np\n",
    "from skimage import io, color, filters\n",
    "import csv"
   ]
  },
  {
   "cell_type": "code",
   "execution_count": 9,
   "metadata": {},
   "outputs": [],
   "source": [
    "# Image path\n",
    "img_path = \"/Users/taiaburrahman/Desktop/git/RetinaSegmentation-HEx/Results/HardExodus/Tests/IDRiD_56.jpg\"\n",
    "# Save the features to a CSV file\n",
    "csv_path = \"/Users/taiaburrahman/Desktop/git/RetinaSegmentation-HEx/gabor1.csv\""
   ]
  },
  {
   "cell_type": "code",
   "execution_count": 11,
   "metadata": {},
   "outputs": [
    {
     "name": "stdout",
     "output_type": "stream",
     "text": [
      "0.05\n",
      "0\n",
      "0.7853981633974483\n",
      "1.5707963267948966\n",
      "2.356194490192345\n",
      "0.1\n",
      "0\n",
      "0.7853981633974483\n",
      "1.5707963267948966\n",
      "2.356194490192345\n",
      "0.15\n",
      "0\n",
      "0.7853981633974483\n",
      "1.5707963267948966\n",
      "2.356194490192345\n"
     ]
    }
   ],
   "source": [
    "# Define the parameters for the Gabor filter\n",
    "freqs = [0.05, 0.1, 0.15]\n",
    "theta = [0, np.pi/4, np.pi/2, 3*np.pi/4]\n",
    "\n",
    "img = io.imread(img_path, as_gray=True)\n",
    "\n",
    "\n",
    "# Extract the Gabor features\n",
    "gabor_features = []\n",
    "for freq in freqs:\n",
    "    print(freq)\n",
    "    for angle in theta:\n",
    "        print(angle)\n",
    "        filtered_img_real, filtered_img_imag = filters.gabor(img, frequency=freq, theta=angle)\n",
    "        gabor_features.append(filtered_img_real.mean())\n",
    "        gabor_features.append(filtered_img_imag.mean())\n",
    "\n",
    "# If the CSV file does not exist, create it and write the header row\n",
    "if not os.path.exists(csv_path):\n",
    "    with open(csv_path, mode='w', newline='') as csv_file:\n",
    "        writer = csv.writer(csv_file)\n",
    "        writer.writerow(['image_name'] + [f'feature_{i}' for i in range(1, len(gabor_features) + 1)])\n",
    "\n",
    "# Write the image name and Gabor features to the CSV file\n",
    "with open(csv_path, mode='a', newline='') as csv_file:\n",
    "    writer = csv.writer(csv_file)\n",
    "    writer.writerow([os.path.basename(img_path)] + gabor_features)\n",
    "    writer.writerow([os.path.basename(img_path)] + gabor_features)\n",
    "\n",
    "with open(csv_path, mode='a', newline='') as csv_file:\n",
    "    writer = csv.writer(csv_file)\n",
    "    writer.writerow([os.path.basename(img_path)] + gabor_features)"
   ]
  }
 ],
 "metadata": {
  "kernelspec": {
   "display_name": "venv",
   "language": "python",
   "name": "python3"
  },
  "language_info": {
   "codemirror_mode": {
    "name": "ipython",
    "version": 3
   },
   "file_extension": ".py",
   "mimetype": "text/x-python",
   "name": "python",
   "nbconvert_exporter": "python",
   "pygments_lexer": "ipython3",
   "version": "3.9.13"
  },
  "orig_nbformat": 4
 },
 "nbformat": 4,
 "nbformat_minor": 2
}
