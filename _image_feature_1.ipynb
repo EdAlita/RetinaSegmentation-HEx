{
 "cells": [
  {
   "cell_type": "code",
   "execution_count": 8,
   "metadata": {},
   "outputs": [],
   "source": [
    "import os\n",
    "import numpy as np\n",
    "from skimage import io, color, filters\n",
    "import csv\n",
    "import matplotlib.pyplot as plt\n",
    "import cv2"
   ]
  },
  {
   "cell_type": "code",
   "execution_count": 9,
   "metadata": {},
   "outputs": [
    {
     "data": {
      "text/plain": [
       "<matplotlib.image.AxesImage at 0x7ff131845520>"
      ]
     },
     "execution_count": 9,
     "metadata": {},
     "output_type": "execute_result"
    },
    {
     "data": {
      "image/png": "[encoded data removed]",
      "text/plain": [
       "<Figure size 640x480 with 1 Axes>"
      ]
     },
     "metadata": {},
     "output_type": "display_data"
    }
   ],
   "source": [
    "# Image path\n",
    "img_path = \"/Users/taiaburrahman/Desktop/git/RetinaSegmentation-HEx/Results/HardExodus/Tests/IDRiD_56.jpg\"\n",
    "# Save the features to a CSV file\n",
    "csv_path = \"/Users/taiaburrahman/Desktop/git/RetinaSegmentation-HEx/gabor1.csv\"\n",
    "\n",
    "img= cv2.imread(img_path)\n",
    "plt.imshow(img)"
   ]
  },
  {
   "cell_type": "code",
   "execution_count": 5,
   "metadata": {},
   "outputs": [
    {
     "name": "stdout",
     "output_type": "stream",
     "text": [
      "0.05\n",
      "0\n",
      "0.7853981633974483\n",
      "1.5707963267948966\n",
      "2.356194490192345\n",
      "0.1\n",
      "0\n",
      "0.7853981633974483\n",
      "1.5707963267948966\n",
      "2.356194490192345\n",
      "0.15\n",
      "0\n",
      "0.7853981633974483\n",
      "1.5707963267948966\n",
      "2.356194490192345\n"
     ]
    }
   ],
   "source": [
    "# Define the parameters for the Gabor filter\n",
    "freqs = [0.05, 0.1, 0.15]\n",
    "theta = [0, np.pi/4, np.pi/2, 3*np.pi/4]\n",
    "\n",
    "img = io.imread(img_path, as_gray=True)\n",
    "\n",
    "\n",
    "# Extract the Gabor features\n",
    "gabor_features = []\n",
    "for freq in freqs:\n",
    "    print(freq)\n",
    "    for angle in theta:\n",
    "        print(angle)\n",
    "        filtered_img_real, filtered_img_imag = filters.gabor(img, frequency=freq, theta=angle)\n",
    "        gabor_features.append(filtered_img_real.mean())\n",
    "        gabor_features.append(filtered_img_imag.mean())\n",
    "\n",
    "# If the CSV file does not exist, create it and write the header row\n",
    "if not os.path.exists(csv_path):\n",
    "    with open(csv_path, mode='w', newline='') as csv_file:\n",
    "        writer = csv.writer(csv_file)\n",
    "        writer.writerow(['image_name'] + [f'feature_{i}' for i in range(1, len(gabor_features) + 1)])\n",
    "\n",
    "# Write the image name and Gabor features to the CSV file\n",
    "with open(csv_path, mode='a', newline='') as csv_file:\n",
    "    writer = csv.writer(csv_file)\n",
    "    writer.writerow([os.path.basename(img_path)] + gabor_features)"
   ]
  },
  {
   "cell_type": "code",
   "execution_count": 10,
   "metadata": {},
   "outputs": [
    {
     "ename": "FileNotFoundError",
     "evalue": "[Errno 2] No such file or directory: '/var/www/unicas/RetinaSegmentation-HEx/Results/HardExodus/Trainning/'",
     "output_type": "error",
     "traceback": [
      "\u001b[0;31m---------------------------------------------------------------------------\u001b[0m",
      "\u001b[0;31mFileNotFoundError\u001b[0m                         Traceback (most recent call last)",
      "Cell \u001b[0;32mIn[10], line 15\u001b[0m\n\u001b[1;32m     12\u001b[0m csv_path \u001b[39m=\u001b[39m \u001b[39m\"\u001b[39m\u001b[39m/var/www/unicas/RetinaSegmentation-HEx/Hardx_feature.csv\u001b[39m\u001b[39m\"\u001b[39m\n\u001b[1;32m     13\u001b[0m \u001b[39m# csv_path = \"/Users/taiaburrahman/Desktop/git/RetinaSegmentation-HEx/Hardx_feature.csv\"\u001b[39;00m\n\u001b[0;32m---> 15\u001b[0m imgList\u001b[39m=\u001b[39mos\u001b[39m.\u001b[39;49mlistdir(img_path)\n\u001b[1;32m     17\u001b[0m \u001b[39m# Define the parameters for the Gabor filter\u001b[39;00m\n\u001b[1;32m     18\u001b[0m freqs \u001b[39m=\u001b[39m [\u001b[39m0.05\u001b[39m, \u001b[39m0.1\u001b[39m, \u001b[39m0.15\u001b[39m]\n",
      "\u001b[0;31mFileNotFoundError\u001b[0m: [Errno 2] No such file or directory: '/var/www/unicas/RetinaSegmentation-HEx/Results/HardExodus/Trainning/'"
     ]
    }
   ],
   "source": [
    "import os\n",
    "import numpy as np\n",
    "from skimage import io, color, filters\n",
    "import csv\n",
    "import cv2\n",
    "\n",
    "# Image path\n",
    "img_path = \"/var/www/unicas/RetinaSegmentation-HEx/Results/HardExodus/Trainning/\"\n",
    "# img_path = \"/Users/taiaburrahman/Desktop/git/RetinaSegmentation-HEx/Results/HardExodus/Training/\"\n",
    "\n",
    "# Save the features to a CSV file\n",
    "csv_path = \"/var/www/unicas/RetinaSegmentation-HEx/Hardx_feature.csv\"\n",
    "# csv_path = \"/Users/taiaburrahman/Desktop/git/RetinaSegmentation-HEx/Hardx_feature.csv\"\n",
    "\n",
    "imgList=os.listdir(img_path)\n",
    "\n",
    "# Define the parameters for the Gabor filter\n",
    "freqs = [0.05, 0.1, 0.15]\n",
    "theta = [0, np.pi/4, np.pi/2, 3*np.pi/4]\n",
    "\n",
    "\n",
    "label_len=0\n",
    "hardx_features=[]\n",
    "for imgName in imgList[-1]:\n",
    "    img=cv2.imread(img_path+imgName, cv2.IMREAD_GRAYSCALE)\n",
    "    # Extract the Gabor features\n",
    "    gabor_features = []\n",
    "    for freq in freqs:\n",
    "        print(freq)\n",
    "        for angle in theta:\n",
    "            print(angle)\n",
    "            filtered_img_real, filtered_img_imag = filters.gabor(img, frequency=freq, theta=angle)\n",
    "            gabor_features.append(imgName)\n",
    "            gabor_features.append(filtered_img_real.mean())\n",
    "            gabor_features.append(filtered_img_imag.mean())\n",
    "    label_len=gabor_features\n",
    "    hardx_features.append(gabor_features)\n",
    "\n",
    "print(label_len)\n",
    "# If the CSV file does not exist, create it and write the header row\n",
    "if not os.path.exists(csv_path):\n",
    "    with open(csv_path, mode='w', newline='') as csv_file:\n",
    "        writer = csv.writer(csv_file)\n",
    "        writer.writerow(['image_name'] + [f\"feature_{i}\" for i in range(1, label_len+1) ])\n",
    "\n",
    "# Write the image name and Gabor features to the CSV file\n",
    "with open(csv_path, mode='a', newline='') as csv_file:\n",
    "    writer = csv.writer(csv_file)\n",
    "    writer.writerow(hardx_features)\n"
   ]
  },
  {
   "cell_type": "code",
   "execution_count": null,
   "metadata": {},
   "outputs": [
    {
     "name": "stdout",
     "output_type": "stream",
     "text": [
      "['image_name', 'feature_1', 'feature_2', 'feature_3', 'feature_4', 'feature_5', 'feature_6', 'feature_7', 'feature_8', 'feature_9', 'feature_10']\n"
     ]
    }
   ],
   "source": [
    "label_len=10\n",
    "label_list=['image_name'] + [f\"feature_{i}\" for i in range(1, label_len+1)]\n",
    "writer.writerow(['image_name'] + [f\"feature_{i}\" for i in range(1, label_len+1) ])\n",
    "print(label_list)"
   ]
  },
  {
   "cell_type": "code",
   "execution_count": null,
   "metadata": {},
   "outputs": [],
   "source": [
    "import numpy as np\n",
    "import cv2\n",
    "im"
   ]
  }
 ],
 "metadata": {
  "kernelspec": {
   "display_name": "venv",
   "language": "python",
   "name": "python3"
  },
  "language_info": {
   "codemirror_mode": {
    "name": "ipython",
    "version": 3
   },
   "file_extension": ".py",
   "mimetype": "text/x-python",
   "name": "python",
   "nbconvert_exporter": "python",
   "pygments_lexer": "ipython3",
   "version": "3.9.13"
  },
  "orig_nbformat": 4
 },
 "nbformat": 4,
 "nbformat_minor": 2
}
