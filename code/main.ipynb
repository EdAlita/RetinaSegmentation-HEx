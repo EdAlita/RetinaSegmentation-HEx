{
 "cells": [
  {
   "cell_type": "code",
   "execution_count": 7,
   "metadata": {},
   "outputs": [
    {
     "name": "stdout",
     "output_type": "stream",
     "text": [
      "The autoreload extension is already loaded. To reload it, use:\n",
      "  %reload_ext autoreload\n"
     ]
    }
   ],
   "source": [
    "from flow import pipeline\n",
    "# To allow auto reload to this notebook after modifying any external file imported\n",
    "%load_ext autoreload\n",
    "%autoreload 2"
   ]
  },
  {
   "cell_type": "code",
   "execution_count": 8,
   "metadata": {},
   "outputs": [
    {
     "name": "stderr",
     "output_type": "stream",
     "text": [
      "\u001b[32m2023-06-18 16:50:04.695\u001b[0m | \u001b[1mINFO    \u001b[0m | \u001b[36mproj_functions\u001b[0m:\u001b[36m__init__\u001b[0m:\u001b[36m18\u001b[0m - \u001b[1mClass Initialized: <class 'proj_functions.proj_functions'>\u001b[0m\n",
      "\u001b[32m2023-06-18 16:50:04.698\u001b[0m | \u001b[1mINFO    \u001b[0m | \u001b[36mflow\u001b[0m:\u001b[36m__init__\u001b[0m:\u001b[36m34\u001b[0m - \u001b[1mClass Initialized: {'currentpath': '/home/edwing/Documents/MAIA/2-Semester/ImageAnalysis/Project/RetinaSegmentation-HEx/code', 'helpers': <proj_functions.proj_functions object at 0x7f1316ce7c70>}\u001b[0m\n"
     ]
    }
   ],
   "source": [
    "flow = pipeline()"
   ]
  },
  {
   "attachments": {},
   "cell_type": "markdown",
   "metadata": {},
   "source": [
    "The next Step produce the preposseccing for the images"
   ]
  },
  {
   "cell_type": "code",
   "execution_count": 3,
   "metadata": {},
   "outputs": [
    {
     "name": "stderr",
     "output_type": "stream",
     "text": [
      "\u001b[32m2023-06-17 16:37:53.953\u001b[0m | \u001b[1mINFO    \u001b[0m | \u001b[36mpreposcessing\u001b[0m:\u001b[36m__init__\u001b[0m:\u001b[36m23\u001b[0m - \u001b[1mClass Initialized: <class 'preposcessing.preprocessing'>\u001b[0m\n",
      "\u001b[32m2023-06-17 16:37:53.954\u001b[0m | \u001b[1mINFO    \u001b[0m | \u001b[36mpreposcessing\u001b[0m:\u001b[36m__init__\u001b[0m:\u001b[36m23\u001b[0m - \u001b[1mClass Initialized: <class 'preposcessing.preprocessing'>\u001b[0m\n",
      "Clahe Test: 100%|██████████| 25/25 [00:00<00:00, 34.35it/s]\n",
      "Denosing Image Test: 100%|██████████| 25/25 [00:14<00:00,  1.68it/s]\n",
      "Clahe Training: 100%|██████████| 54/54 [00:00<00:00, 92.59it/s]\n",
      "Denosing Image Training: 100%|██████████| 54/54 [00:33<00:00,  1.62it/s]\n",
      "Saving Images Test of Prepos: 100%|██████████| 25/25 [00:00<00:00, 31.73it/s]\n",
      "Saving Images Train of Prepos: 100%|██████████| 54/54 [00:00<00:00, 57.14it/s]\n",
      "\u001b[32m2023-06-17 16:38:45.298\u001b[0m | \u001b[1mINFO    \u001b[0m | \u001b[36mflow\u001b[0m:\u001b[36mpreprocessing\u001b[0m:\u001b[36m113\u001b[0m - \u001b[1mSaving Variables. Know you can commet this method\u001b[0m\n",
      "\u001b[32m2023-06-17 16:39:53.699\u001b[0m | \u001b[32m\u001b[1mSUCCESS \u001b[0m | \u001b[36mflow\u001b[0m:\u001b[36mpreprocessing\u001b[0m:\u001b[36m131\u001b[0m - \u001b[32m\u001b[1mExit without errors\u001b[0m\n"
     ]
    }
   ],
   "source": [
    "flow.preprocessing()"
   ]
  },
  {
   "attachments": {},
   "cell_type": "markdown",
   "metadata": {},
   "source": [
    "Hard Exodus Segmentation"
   ]
  },
  {
   "cell_type": "code",
   "execution_count": 4,
   "metadata": {},
   "outputs": [
    {
     "name": "stderr",
     "output_type": "stream",
     "text": [
      "\u001b[32m2023-06-17 16:40:05.401\u001b[0m | \u001b[32m\u001b[1mSUCCESS \u001b[0m | \u001b[36mflow\u001b[0m:\u001b[36mhard_exodus_extraction_treshHold\u001b[0m:\u001b[36m146\u001b[0m - \u001b[32m\u001b[1mPickle file loaded successfully\u001b[0m\n",
      "\u001b[32m2023-06-17 16:40:05.481\u001b[0m | \u001b[1mINFO    \u001b[0m | \u001b[36mhard_exodus\u001b[0m:\u001b[36m__init__\u001b[0m:\u001b[36m27\u001b[0m - \u001b[1mClass Initialized: <class 'hard_exodus.HardExodus'>\u001b[0m\n",
      "\u001b[32m2023-06-17 16:40:05.484\u001b[0m | \u001b[1mINFO    \u001b[0m | \u001b[36mhard_exodus\u001b[0m:\u001b[36m__init__\u001b[0m:\u001b[36m27\u001b[0m - \u001b[1mClass Initialized: <class 'hard_exodus.HardExodus'>\u001b[0m\n",
      "Hard Exodus Extraction Test: 100%|██████████| 25/25 [00:04<00:00,  5.38it/s]\n",
      "Hard Exodus Extraction Training: 100%|██████████| 54/54 [00:02<00:00, 21.80it/s]\n",
      "Saving Images Test of HardExodus_85: 100%|██████████| 25/25 [00:00<00:00, 75.99it/s]\n",
      "Saving Images Test of HardExodus_90: 100%|██████████| 25/25 [00:01<00:00, 23.70it/s]\n",
      "Saving Images Test of HardExodus_95: 100%|██████████| 25/25 [00:00<00:00, 72.26it/s]\n",
      "Saving Images Train of HardExodus_85: 100%|██████████| 54/54 [00:00<00:00, 66.14it/s]\n",
      "Saving Images Train of HardExodus_90: 100%|██████████| 54/54 [00:01<00:00, 45.64it/s]\n",
      "Saving Images Train of HardExodus_95: 100%|██████████| 54/54 [00:01<00:00, 43.64it/s]\n",
      "\u001b[32m2023-06-17 16:40:17.601\u001b[0m | \u001b[1mINFO    \u001b[0m | \u001b[36mflow\u001b[0m:\u001b[36mhard_exodus_extraction_treshHold\u001b[0m:\u001b[36m200\u001b[0m - \u001b[1mSaving Variables. Know you can commet this method\u001b[0m\n",
      "\u001b[32m2023-06-17 16:40:24.599\u001b[0m | \u001b[32m\u001b[1mSUCCESS \u001b[0m | \u001b[36mflow\u001b[0m:\u001b[36mhard_exodus_extraction_treshHold\u001b[0m:\u001b[36m211\u001b[0m - \u001b[32m\u001b[1mExit without errors\u001b[0m\n"
     ]
    }
   ],
   "source": [
    "flow.hard_exodus_extraction_treshHold()"
   ]
  },
  {
   "attachments": {},
   "cell_type": "markdown",
   "metadata": {},
   "source": [
    "Please before rerunnig this function erase the old .csv files in the Results Folder. "
   ]
  },
  {
   "cell_type": "code",
   "execution_count": 3,
   "metadata": {},
   "outputs": [
    {
     "name": "stderr",
     "output_type": "stream",
     "text": [
      "\u001b[32m2023-06-18 10:26:01.541\u001b[0m | \u001b[32m\u001b[1mSUCCESS \u001b[0m | \u001b[36mflow\u001b[0m:\u001b[36mget_Features\u001b[0m:\u001b[36m241\u001b[0m - \u001b[32m\u001b[1mPickle file loaded successfully!\u001b[0m\n",
      "Feature extraction training data set: 100%|██████████| 54/54 [3:01:34<00:00, 201.75s/it]  \n",
      "Feature extraction test data set: 100%|██████████| 25/25 [1:40:19<00:00, 240.78s/it]\n",
      "\u001b[32m2023-06-18 15:07:55.331\u001b[0m | \u001b[1mINFO    \u001b[0m | \u001b[36mflow\u001b[0m:\u001b[36mget_Features\u001b[0m:\u001b[36m423\u001b[0m - \u001b[1mSaving variables...\u001b[0m\n",
      "\u001b[32m2023-06-18 15:07:55.332\u001b[0m | \u001b[1mINFO    \u001b[0m | \u001b[36mflow\u001b[0m:\u001b[36mget_Features\u001b[0m:\u001b[36m438\u001b[0m - \u001b[1mNumber of Exodus in Groundthruth: 10488\u001b[0m\n",
      "\u001b[32m2023-06-18 15:07:55.333\u001b[0m | \u001b[1mINFO    \u001b[0m | \u001b[36mflow\u001b[0m:\u001b[36mget_Features\u001b[0m:\u001b[36m439\u001b[0m - \u001b[1mExodus counted in segmentation process: 8274\u001b[0m\n",
      "\u001b[32m2023-06-18 15:07:55.333\u001b[0m | \u001b[1mINFO    \u001b[0m | \u001b[36mflow\u001b[0m:\u001b[36mget_Features\u001b[0m:\u001b[36m440\u001b[0m - \u001b[1mPercentaje recognize 78.890160%\u001b[0m\n",
      "\u001b[32m2023-06-18 15:07:55.334\u001b[0m | \u001b[1mINFO    \u001b[0m | \u001b[36mflow\u001b[0m:\u001b[36mget_Features\u001b[0m:\u001b[36m441\u001b[0m - \u001b[1mExodus obtain wth Tophat Th 95: 5499\u001b[0m\n",
      "\u001b[32m2023-06-18 15:07:55.334\u001b[0m | \u001b[1mINFO    \u001b[0m | \u001b[36mflow\u001b[0m:\u001b[36mget_Features\u001b[0m:\u001b[36m442\u001b[0m - \u001b[1mExodus obtain wth Morph Smoothing Th 90: 1303\u001b[0m\n",
      "\u001b[32m2023-06-18 15:07:55.335\u001b[0m | \u001b[1mINFO    \u001b[0m | \u001b[36mflow\u001b[0m:\u001b[36mget_Features\u001b[0m:\u001b[36m443\u001b[0m - \u001b[1mExodus obtain wth Morph Smoothing Th 95: 1472\u001b[0m\n",
      "\u001b[32m2023-06-18 15:07:55.335\u001b[0m | \u001b[32m\u001b[1mSUCCESS \u001b[0m | \u001b[36mflow\u001b[0m:\u001b[36mget_Features\u001b[0m:\u001b[36m445\u001b[0m - \u001b[32m\u001b[1mTerminated without any Error\u001b[0m\n"
     ]
    }
   ],
   "source": [
    "flow.get_Features()"
   ]
  },
  {
   "cell_type": "code",
   "execution_count": 9,
   "metadata": {},
   "outputs": [
    {
     "name": "stderr",
     "output_type": "stream",
     "text": [
      "\u001b[32m2023-06-18 16:50:09.486\u001b[0m | \u001b[32m\u001b[1mSUCCESS \u001b[0m | \u001b[36mflow\u001b[0m:\u001b[36mnormalize_data\u001b[0m:\u001b[36m481\u001b[0m - \u001b[32m\u001b[1mReading the CVS Files Succesfully\u001b[0m\n",
      "\u001b[32m2023-06-18 16:50:10.612\u001b[0m | \u001b[32m\u001b[1mSUCCESS \u001b[0m | \u001b[36mflow\u001b[0m:\u001b[36mnormalize_data\u001b[0m:\u001b[36m495\u001b[0m - \u001b[32m\u001b[1mTerminated without any Errors\u001b[0m\n"
     ]
    }
   ],
   "source": [
    "flow.normalize_data()"
   ]
  }
 ],
 "metadata": {
  "kernelspec": {
   "display_name": "Python 3",
   "language": "python",
   "name": "python3"
  },
  "language_info": {
   "codemirror_mode": {
    "name": "ipython",
    "version": 3
   },
   "file_extension": ".py",
   "mimetype": "text/x-python",
   "name": "python",
   "nbconvert_exporter": "python",
   "pygments_lexer": "ipython3",
   "version": "3.10.6"
  },
  "orig_nbformat": 4
 },
 "nbformat": 4,
 "nbformat_minor": 2
}
