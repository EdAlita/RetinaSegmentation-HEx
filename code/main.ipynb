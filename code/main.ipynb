{
 "cells": [
  {
   "cell_type": "code",
   "execution_count": 1,
   "metadata": {},
   "outputs": [],
   "source": [
    "from flow import pipeline\n",
    "# To allow auto reload to this notebook after modifying any external file imported\n",
    "%load_ext autoreload\n",
    "%autoreload 2"
   ]
  },
  {
   "cell_type": "code",
   "execution_count": 2,
   "metadata": {},
   "outputs": [
    {
     "name": "stderr",
     "output_type": "stream",
     "text": [
      "\u001b[32m2023-06-17 16:37:31.452\u001b[0m | \u001b[1mINFO    \u001b[0m | \u001b[36mproj_functions\u001b[0m:\u001b[36m__init__\u001b[0m:\u001b[36m18\u001b[0m - \u001b[1mClass Initialized: <class 'proj_functions.proj_functions'>\u001b[0m\n",
      "\u001b[32m2023-06-17 16:37:31.455\u001b[0m | \u001b[1mINFO    \u001b[0m | \u001b[36mflow\u001b[0m:\u001b[36m__init__\u001b[0m:\u001b[36m34\u001b[0m - \u001b[1mClass Initialized: {'currentpath': '/home/edwing/Documents/MAIA/2-Semester/ImageAnalysis/Project/RetinaSegmentation-HEx/code', 'helpers': <proj_functions.proj_functions object at 0x7fb7ddd413f0>}\u001b[0m\n"
     ]
    }
   ],
   "source": [
    "flow = pipeline()"
   ]
  },
  {
   "attachments": {},
   "cell_type": "markdown",
   "metadata": {},
   "source": [
    "The next Step produce the preposseccing for the images"
   ]
  },
  {
   "cell_type": "code",
   "execution_count": 3,
   "metadata": {},
   "outputs": [
    {
     "name": "stderr",
     "output_type": "stream",
     "text": [
      "\u001b[32m2023-06-17 16:37:53.953\u001b[0m | \u001b[1mINFO    \u001b[0m | \u001b[36mpreposcessing\u001b[0m:\u001b[36m__init__\u001b[0m:\u001b[36m23\u001b[0m - \u001b[1mClass Initialized: <class 'preposcessing.preprocessing'>\u001b[0m\n",
      "\u001b[32m2023-06-17 16:37:53.954\u001b[0m | \u001b[1mINFO    \u001b[0m | \u001b[36mpreposcessing\u001b[0m:\u001b[36m__init__\u001b[0m:\u001b[36m23\u001b[0m - \u001b[1mClass Initialized: <class 'preposcessing.preprocessing'>\u001b[0m\n",
      "Clahe Test: 100%|██████████| 25/25 [00:00<00:00, 34.35it/s]\n",
      "Denosing Image Test: 100%|██████████| 25/25 [00:14<00:00,  1.68it/s]\n",
      "Clahe Training: 100%|██████████| 54/54 [00:00<00:00, 92.59it/s]\n",
      "Denosing Image Training: 100%|██████████| 54/54 [00:33<00:00,  1.62it/s]\n",
      "Saving Images Test of Prepos: 100%|██████████| 25/25 [00:00<00:00, 31.73it/s]\n",
      "Saving Images Train of Prepos: 100%|██████████| 54/54 [00:00<00:00, 57.14it/s]\n",
      "\u001b[32m2023-06-17 16:38:45.298\u001b[0m | \u001b[1mINFO    \u001b[0m | \u001b[36mflow\u001b[0m:\u001b[36mpreprocessing\u001b[0m:\u001b[36m113\u001b[0m - \u001b[1mSaving Variables. Know you can commet this method\u001b[0m\n",
      "\u001b[32m2023-06-17 16:39:53.699\u001b[0m | \u001b[32m\u001b[1mSUCCESS \u001b[0m | \u001b[36mflow\u001b[0m:\u001b[36mpreprocessing\u001b[0m:\u001b[36m131\u001b[0m - \u001b[32m\u001b[1mExit without errors\u001b[0m\n"
     ]
    }
   ],
   "source": [
    "flow.preprocessing()"
   ]
  },
  {
   "attachments": {},
   "cell_type": "markdown",
   "metadata": {},
   "source": [
    "Hard Exodus Segmentation"
   ]
  },
  {
   "cell_type": "code",
   "execution_count": 4,
   "metadata": {},
   "outputs": [
    {
     "name": "stderr",
     "output_type": "stream",
     "text": [
      "\u001b[32m2023-06-17 16:40:05.401\u001b[0m | \u001b[32m\u001b[1mSUCCESS \u001b[0m | \u001b[36mflow\u001b[0m:\u001b[36mhard_exodus_extraction_treshHold\u001b[0m:\u001b[36m146\u001b[0m - \u001b[32m\u001b[1mPickle file loaded successfully\u001b[0m\n",
      "\u001b[32m2023-06-17 16:40:05.481\u001b[0m | \u001b[1mINFO    \u001b[0m | \u001b[36mhard_exodus\u001b[0m:\u001b[36m__init__\u001b[0m:\u001b[36m27\u001b[0m - \u001b[1mClass Initialized: <class 'hard_exodus.HardExodus'>\u001b[0m\n",
      "\u001b[32m2023-06-17 16:40:05.484\u001b[0m | \u001b[1mINFO    \u001b[0m | \u001b[36mhard_exodus\u001b[0m:\u001b[36m__init__\u001b[0m:\u001b[36m27\u001b[0m - \u001b[1mClass Initialized: <class 'hard_exodus.HardExodus'>\u001b[0m\n",
      "Hard Exodus Extraction Test: 100%|██████████| 25/25 [00:04<00:00,  5.38it/s]\n",
      "Hard Exodus Extraction Training: 100%|██████████| 54/54 [00:02<00:00, 21.80it/s]\n",
      "Saving Images Test of HardExodus_85: 100%|██████████| 25/25 [00:00<00:00, 75.99it/s]\n",
      "Saving Images Test of HardExodus_90: 100%|██████████| 25/25 [00:01<00:00, 23.70it/s]\n",
      "Saving Images Test of HardExodus_95: 100%|██████████| 25/25 [00:00<00:00, 72.26it/s]\n",
      "Saving Images Train of HardExodus_85: 100%|██████████| 54/54 [00:00<00:00, 66.14it/s]\n",
      "Saving Images Train of HardExodus_90: 100%|██████████| 54/54 [00:01<00:00, 45.64it/s]\n",
      "Saving Images Train of HardExodus_95: 100%|██████████| 54/54 [00:01<00:00, 43.64it/s]\n",
      "\u001b[32m2023-06-17 16:40:17.601\u001b[0m | \u001b[1mINFO    \u001b[0m | \u001b[36mflow\u001b[0m:\u001b[36mhard_exodus_extraction_treshHold\u001b[0m:\u001b[36m200\u001b[0m - \u001b[1mSaving Variables. Know you can commet this method\u001b[0m\n",
      "\u001b[32m2023-06-17 16:40:24.599\u001b[0m | \u001b[32m\u001b[1mSUCCESS \u001b[0m | \u001b[36mflow\u001b[0m:\u001b[36mhard_exodus_extraction_treshHold\u001b[0m:\u001b[36m211\u001b[0m - \u001b[32m\u001b[1mExit without errors\u001b[0m\n"
     ]
    }
   ],
   "source": [
    "flow.hard_exodus_extraction_treshHold()"
   ]
  },
  {
   "attachments": {},
   "cell_type": "markdown",
   "metadata": {},
   "source": [
    "Please before rerunnig this function erase the old .csv files in the Results Folder. "
   ]
  },
  {
   "cell_type": "code",
   "execution_count": 7,
   "metadata": {},
   "outputs": [
    {
     "name": "stderr",
     "output_type": "stream",
     "text": [
      "\u001b[32m2023-06-17 21:46:30.208\u001b[0m | \u001b[32m\u001b[1mSUCCESS \u001b[0m | \u001b[36mflow\u001b[0m:\u001b[36mget_Features\u001b[0m:\u001b[36m241\u001b[0m - \u001b[32m\u001b[1mPickle file loaded successfully!\u001b[0m\n",
      "Feature extraction training data set:  70%|███████   | 38/54 [2:23:36<1:00:28, 226.76s/it]\n"
     ]
    },
    {
     "ename": "KeyboardInterrupt",
     "evalue": "",
     "output_type": "error",
     "traceback": [
      "\u001b[0;31m---------------------------------------------------------------------------\u001b[0m",
      "\u001b[0;31mKeyboardInterrupt\u001b[0m                         Traceback (most recent call last)",
      "Cell \u001b[0;32mIn[7], line 1\u001b[0m\n\u001b[0;32m----> 1\u001b[0m flow\u001b[39m.\u001b[39;49mget_Features()\n",
      "File \u001b[0;32m~/Documents/MAIA/2-Semester/ImageAnalysis/Project/RetinaSegmentation-HEx/code/flow.py:262\u001b[0m, in \u001b[0;36mpipeline.get_Features\u001b[0;34m(self)\u001b[0m\n\u001b[1;32m    259\u001b[0m __, imageholder2 \u001b[39m=\u001b[39m cv2\u001b[39m.\u001b[39mthreshold(training_groundthruth_dataset[i],\u001b[39m0\u001b[39m,\u001b[39m255\u001b[39m,cv2\u001b[39m.\u001b[39mTHRESH_BINARY)\n\u001b[1;32m    260\u001b[0m imageholder2 \u001b[39m=\u001b[39m cv2\u001b[39m.\u001b[39mresize(imageholder2,\u001b[39mNone\u001b[39;00m,fx\u001b[39m=\u001b[39m\u001b[39m0.40\u001b[39m,fy\u001b[39m=\u001b[39m\u001b[39m0.40\u001b[39m)       \n\u001b[0;32m--> 262\u001b[0m neg_85, pos_85, training85_sensitivity, exodus_ground85, counted85, y_85n, y_85p\u001b[39m=\u001b[39m \u001b[39mself\u001b[39;49m\u001b[39m.\u001b[39;49mhelpers\u001b[39m.\u001b[39;49mevaluate_exodus(training_hard85[i],\n\u001b[1;32m    263\u001b[0m                                                                                                  imageholder2,\n\u001b[1;32m    264\u001b[0m                                                                                                  training_dataset[i],\n\u001b[1;32m    265\u001b[0m                                                                                                  i\u001b[39m+\u001b[39;49m\u001b[39m1\u001b[39;49m,\n\u001b[1;32m    266\u001b[0m                                                                                                  \u001b[39m85\u001b[39;49m)\n\u001b[1;32m    267\u001b[0m neg_90, pos_90, training90_sensitivity, exodus_ground90, counted90, y_90n, y_90p \u001b[39m=\u001b[39m \u001b[39mself\u001b[39m\u001b[39m.\u001b[39mhelpers\u001b[39m.\u001b[39mevaluate_exodus(training_hard90[i],\n\u001b[1;32m    268\u001b[0m                                                                                                  imageholder2,\n\u001b[1;32m    269\u001b[0m                                                                                                  training_dataset[i],\n\u001b[1;32m    270\u001b[0m                                                                                                  i\u001b[39m+\u001b[39m\u001b[39m1\u001b[39m,\n\u001b[1;32m    271\u001b[0m                                                                                                  \u001b[39m90\u001b[39m)\n\u001b[1;32m    273\u001b[0m neg_95, pos_95, training95_sensitivity, exodus_ground95, counted95, y_95n, y_95p \u001b[39m=\u001b[39m \u001b[39mself\u001b[39m\u001b[39m.\u001b[39mhelpers\u001b[39m.\u001b[39mevaluate_exodus(training_hard95[i],\n\u001b[1;32m    274\u001b[0m                                                                                                  imageholder2,\n\u001b[1;32m    275\u001b[0m                                                                                                  training_dataset[i],\n\u001b[1;32m    276\u001b[0m                                                                                                  i\u001b[39m+\u001b[39m\u001b[39m1\u001b[39m,\n\u001b[1;32m    277\u001b[0m                                                                                                  \u001b[39m95\u001b[39m)\n",
      "File \u001b[0;32m~/Documents/MAIA/2-Semester/ImageAnalysis/Project/RetinaSegmentation-HEx/code/proj_functions.py:133\u001b[0m, in \u001b[0;36mproj_functions.evaluate_exodus\u001b[0;34m(self, exodus, groud_truth, original_image, num, th)\u001b[0m\n\u001b[1;32m    131\u001b[0m groundTh \u001b[39m=\u001b[39m cv2\u001b[39m.\u001b[39mdrawContours(im2, [grnd], \u001b[39m0\u001b[39m, (\u001b[39m255\u001b[39m,\u001b[39m255\u001b[39m,\u001b[39m255\u001b[39m), \u001b[39m-\u001b[39m\u001b[39m1\u001b[39m)\n\u001b[1;32m    132\u001b[0m regions_intersection \u001b[39m=\u001b[39m cv2\u001b[39m.\u001b[39mbitwise_and(exodus,groundTh)\n\u001b[0;32m--> 133\u001b[0m intersection \u001b[39m=\u001b[39m np\u001b[39m.\u001b[39;49msum(regions_intersection)\n\u001b[1;32m    134\u001b[0m \u001b[39mif\u001b[39;00m(intersection\u001b[39m!=\u001b[39m\u001b[39m0\u001b[39m):\n\u001b[1;32m    135\u001b[0m     regions_union \u001b[39m=\u001b[39m cv2\u001b[39m.\u001b[39mbitwise_or(exodus,groundTh)\n",
      "File \u001b[0;32m<__array_function__ internals>:180\u001b[0m, in \u001b[0;36msum\u001b[0;34m(*args, **kwargs)\u001b[0m\n",
      "File \u001b[0;32m~/.local/lib/python3.10/site-packages/numpy/core/fromnumeric.py:2298\u001b[0m, in \u001b[0;36msum\u001b[0;34m(a, axis, dtype, out, keepdims, initial, where)\u001b[0m\n\u001b[1;32m   2295\u001b[0m         \u001b[39mreturn\u001b[39;00m out\n\u001b[1;32m   2296\u001b[0m     \u001b[39mreturn\u001b[39;00m res\n\u001b[0;32m-> 2298\u001b[0m \u001b[39mreturn\u001b[39;00m _wrapreduction(a, np\u001b[39m.\u001b[39;49madd, \u001b[39m'\u001b[39;49m\u001b[39msum\u001b[39;49m\u001b[39m'\u001b[39;49m, axis, dtype, out, keepdims\u001b[39m=\u001b[39;49mkeepdims,\n\u001b[1;32m   2299\u001b[0m                       initial\u001b[39m=\u001b[39;49minitial, where\u001b[39m=\u001b[39;49mwhere)\n",
      "File \u001b[0;32m~/.local/lib/python3.10/site-packages/numpy/core/fromnumeric.py:86\u001b[0m, in \u001b[0;36m_wrapreduction\u001b[0;34m(obj, ufunc, method, axis, dtype, out, **kwargs)\u001b[0m\n\u001b[1;32m     83\u001b[0m         \u001b[39melse\u001b[39;00m:\n\u001b[1;32m     84\u001b[0m             \u001b[39mreturn\u001b[39;00m reduction(axis\u001b[39m=\u001b[39maxis, out\u001b[39m=\u001b[39mout, \u001b[39m*\u001b[39m\u001b[39m*\u001b[39mpasskwargs)\n\u001b[0;32m---> 86\u001b[0m \u001b[39mreturn\u001b[39;00m ufunc\u001b[39m.\u001b[39;49mreduce(obj, axis, dtype, out, \u001b[39m*\u001b[39;49m\u001b[39m*\u001b[39;49mpasskwargs)\n",
      "\u001b[0;31mKeyboardInterrupt\u001b[0m: "
     ]
    }
   ],
   "source": [
    "flow.get_Features()"
   ]
  }
 ],
 "metadata": {
  "kernelspec": {
   "display_name": "Python 3",
   "language": "python",
   "name": "python3"
  },
  "language_info": {
   "codemirror_mode": {
    "name": "ipython",
    "version": 3
   },
   "file_extension": ".py",
   "mimetype": "text/x-python",
   "name": "python",
   "nbconvert_exporter": "python",
   "pygments_lexer": "ipython3",
   "version": "3.10.6"
  },
  "orig_nbformat": 4
 },
 "nbformat": 4,
 "nbformat_minor": 2
}
