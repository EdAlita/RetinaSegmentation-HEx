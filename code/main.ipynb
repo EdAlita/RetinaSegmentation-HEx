{
 "cells": [
  {
   "cell_type": "code",
   "execution_count": 10,
   "metadata": {},
   "outputs": [
    {
     "name": "stdout",
     "output_type": "stream",
     "text": [
      "The autoreload extension is already loaded. To reload it, use:\n",
      "  %reload_ext autoreload\n"
     ]
    }
   ],
   "source": [
    "from flow import pipeline\n",
    "# To allow auto reload to this notebook after modifying any external file imported\n",
    "%load_ext autoreload\n",
    "%autoreload 2"
   ]
  },
  {
   "cell_type": "code",
   "execution_count": 11,
   "metadata": {},
   "outputs": [
    {
     "name": "stderr",
     "output_type": "stream",
     "text": [
      "\u001b[32m2023-06-18 17:09:12.959\u001b[0m | \u001b[1mINFO    \u001b[0m | \u001b[36mproj_functions\u001b[0m:\u001b[36m__init__\u001b[0m:\u001b[36m18\u001b[0m - \u001b[1mClass Initialized: <class 'proj_functions.proj_functions'>\u001b[0m\n",
      "\u001b[32m2023-06-18 17:09:12.962\u001b[0m | \u001b[1mINFO    \u001b[0m | \u001b[36mflow\u001b[0m:\u001b[36m__init__\u001b[0m:\u001b[36m34\u001b[0m - \u001b[1mClass Initialized: {'currentpath': '/home/edwing/Documents/MAIA/2-Semester/ImageAnalysis/Project/RetinaSegmentation-HEx/code', 'helpers': <proj_functions.proj_functions object at 0x7f1316cfba00>}\u001b[0m\n"
     ]
    }
   ],
   "source": [
    "flow = pipeline()"
   ]
  },
  {
   "attachments": {},
   "cell_type": "markdown",
   "metadata": {},
   "source": [
    "The next Step produce the preposseccing for the images"
   ]
  },
  {
   "cell_type": "code",
   "execution_count": 3,
   "metadata": {},
   "outputs": [
    {
     "name": "stderr",
     "output_type": "stream",
     "text": [
      "\u001b[32m2023-06-17 16:37:53.953\u001b[0m | \u001b[1mINFO    \u001b[0m | \u001b[36mpreposcessing\u001b[0m:\u001b[36m__init__\u001b[0m:\u001b[36m23\u001b[0m - \u001b[1mClass Initialized: <class 'preposcessing.preprocessing'>\u001b[0m\n",
      "\u001b[32m2023-06-17 16:37:53.954\u001b[0m | \u001b[1mINFO    \u001b[0m | \u001b[36mpreposcessing\u001b[0m:\u001b[36m__init__\u001b[0m:\u001b[36m23\u001b[0m - \u001b[1mClass Initialized: <class 'preposcessing.preprocessing'>\u001b[0m\n",
      "Clahe Test: 100%|██████████| 25/25 [00:00<00:00, 34.35it/s]\n",
      "Denosing Image Test: 100%|██████████| 25/25 [00:14<00:00,  1.68it/s]\n",
      "Clahe Training: 100%|██████████| 54/54 [00:00<00:00, 92.59it/s]\n",
      "Denosing Image Training: 100%|██████████| 54/54 [00:33<00:00,  1.62it/s]\n",
      "Saving Images Test of Prepos: 100%|██████████| 25/25 [00:00<00:00, 31.73it/s]\n",
      "Saving Images Train of Prepos: 100%|██████████| 54/54 [00:00<00:00, 57.14it/s]\n",
      "\u001b[32m2023-06-17 16:38:45.298\u001b[0m | \u001b[1mINFO    \u001b[0m | \u001b[36mflow\u001b[0m:\u001b[36mpreprocessing\u001b[0m:\u001b[36m113\u001b[0m - \u001b[1mSaving Variables. Know you can commet this method\u001b[0m\n",
      "\u001b[32m2023-06-17 16:39:53.699\u001b[0m | \u001b[32m\u001b[1mSUCCESS \u001b[0m | \u001b[36mflow\u001b[0m:\u001b[36mpreprocessing\u001b[0m:\u001b[36m131\u001b[0m - \u001b[32m\u001b[1mExit without errors\u001b[0m\n"
     ]
    }
   ],
   "source": [
    "flow.preprocessing()"
   ]
  },
  {
   "attachments": {},
   "cell_type": "markdown",
   "metadata": {},
   "source": [
    "## Hard Exodus Segmentation"
   ]
  },
  {
   "cell_type": "code",
   "execution_count": 4,
   "metadata": {},
   "outputs": [
    {
     "name": "stderr",
     "output_type": "stream",
     "text": [
      "\u001b[32m2023-06-17 16:40:05.401\u001b[0m | \u001b[32m\u001b[1mSUCCESS \u001b[0m | \u001b[36mflow\u001b[0m:\u001b[36mhard_exodus_extraction_treshHold\u001b[0m:\u001b[36m146\u001b[0m - \u001b[32m\u001b[1mPickle file loaded successfully\u001b[0m\n",
      "\u001b[32m2023-06-17 16:40:05.481\u001b[0m | \u001b[1mINFO    \u001b[0m | \u001b[36mhard_exodus\u001b[0m:\u001b[36m__init__\u001b[0m:\u001b[36m27\u001b[0m - \u001b[1mClass Initialized: <class 'hard_exodus.HardExodus'>\u001b[0m\n",
      "\u001b[32m2023-06-17 16:40:05.484\u001b[0m | \u001b[1mINFO    \u001b[0m | \u001b[36mhard_exodus\u001b[0m:\u001b[36m__init__\u001b[0m:\u001b[36m27\u001b[0m - \u001b[1mClass Initialized: <class 'hard_exodus.HardExodus'>\u001b[0m\n",
      "Hard Exodus Extraction Test: 100%|██████████| 25/25 [00:04<00:00,  5.38it/s]\n",
      "Hard Exodus Extraction Training: 100%|██████████| 54/54 [00:02<00:00, 21.80it/s]\n",
      "Saving Images Test of HardExodus_85: 100%|██████████| 25/25 [00:00<00:00, 75.99it/s]\n",
      "Saving Images Test of HardExodus_90: 100%|██████████| 25/25 [00:01<00:00, 23.70it/s]\n",
      "Saving Images Test of HardExodus_95: 100%|██████████| 25/25 [00:00<00:00, 72.26it/s]\n",
      "Saving Images Train of HardExodus_85: 100%|██████████| 54/54 [00:00<00:00, 66.14it/s]\n",
      "Saving Images Train of HardExodus_90: 100%|██████████| 54/54 [00:01<00:00, 45.64it/s]\n",
      "Saving Images Train of HardExodus_95: 100%|██████████| 54/54 [00:01<00:00, 43.64it/s]\n",
      "\u001b[32m2023-06-17 16:40:17.601\u001b[0m | \u001b[1mINFO    \u001b[0m | \u001b[36mflow\u001b[0m:\u001b[36mhard_exodus_extraction_treshHold\u001b[0m:\u001b[36m200\u001b[0m - \u001b[1mSaving Variables. Know you can commet this method\u001b[0m\n",
      "\u001b[32m2023-06-17 16:40:24.599\u001b[0m | \u001b[32m\u001b[1mSUCCESS \u001b[0m | \u001b[36mflow\u001b[0m:\u001b[36mhard_exodus_extraction_treshHold\u001b[0m:\u001b[36m211\u001b[0m - \u001b[32m\u001b[1mExit without errors\u001b[0m\n"
     ]
    }
   ],
   "source": [
    "flow.hard_exodus_extraction_treshHold()"
   ]
  },
  {
   "attachments": {},
   "cell_type": "markdown",
   "metadata": {},
   "source": [
    "Please before rerunnig this function erase the old .csv files in the Results Folder. "
   ]
  },
  {
   "cell_type": "code",
   "execution_count": 3,
   "metadata": {},
   "outputs": [
    {
     "name": "stderr",
     "output_type": "stream",
     "text": [
      "\u001b[32m2023-06-18 10:26:01.541\u001b[0m | \u001b[32m\u001b[1mSUCCESS \u001b[0m | \u001b[36mflow\u001b[0m:\u001b[36mget_Features\u001b[0m:\u001b[36m241\u001b[0m - \u001b[32m\u001b[1mPickle file loaded successfully!\u001b[0m\n",
      "Feature extraction training data set: 100%|██████████| 54/54 [3:01:34<00:00, 201.75s/it]  \n",
      "Feature extraction test data set: 100%|██████████| 25/25 [1:40:19<00:00, 240.78s/it]\n",
      "\u001b[32m2023-06-18 15:07:55.331\u001b[0m | \u001b[1mINFO    \u001b[0m | \u001b[36mflow\u001b[0m:\u001b[36mget_Features\u001b[0m:\u001b[36m423\u001b[0m - \u001b[1mSaving variables...\u001b[0m\n",
      "\u001b[32m2023-06-18 15:07:55.332\u001b[0m | \u001b[1mINFO    \u001b[0m | \u001b[36mflow\u001b[0m:\u001b[36mget_Features\u001b[0m:\u001b[36m438\u001b[0m - \u001b[1mNumber of Exodus in Groundthruth: 10488\u001b[0m\n",
      "\u001b[32m2023-06-18 15:07:55.333\u001b[0m | \u001b[1mINFO    \u001b[0m | \u001b[36mflow\u001b[0m:\u001b[36mget_Features\u001b[0m:\u001b[36m439\u001b[0m - \u001b[1mExodus counted in segmentation process: 8274\u001b[0m\n",
      "\u001b[32m2023-06-18 15:07:55.333\u001b[0m | \u001b[1mINFO    \u001b[0m | \u001b[36mflow\u001b[0m:\u001b[36mget_Features\u001b[0m:\u001b[36m440\u001b[0m - \u001b[1mPercentaje recognize 78.890160%\u001b[0m\n",
      "\u001b[32m2023-06-18 15:07:55.334\u001b[0m | \u001b[1mINFO    \u001b[0m | \u001b[36mflow\u001b[0m:\u001b[36mget_Features\u001b[0m:\u001b[36m441\u001b[0m - \u001b[1mExodus obtain wth Tophat Th 95: 5499\u001b[0m\n",
      "\u001b[32m2023-06-18 15:07:55.334\u001b[0m | \u001b[1mINFO    \u001b[0m | \u001b[36mflow\u001b[0m:\u001b[36mget_Features\u001b[0m:\u001b[36m442\u001b[0m - \u001b[1mExodus obtain wth Morph Smoothing Th 90: 1303\u001b[0m\n",
      "\u001b[32m2023-06-18 15:07:55.335\u001b[0m | \u001b[1mINFO    \u001b[0m | \u001b[36mflow\u001b[0m:\u001b[36mget_Features\u001b[0m:\u001b[36m443\u001b[0m - \u001b[1mExodus obtain wth Morph Smoothing Th 95: 1472\u001b[0m\n",
      "\u001b[32m2023-06-18 15:07:55.335\u001b[0m | \u001b[32m\u001b[1mSUCCESS \u001b[0m | \u001b[36mflow\u001b[0m:\u001b[36mget_Features\u001b[0m:\u001b[36m445\u001b[0m - \u001b[32m\u001b[1mTerminated without any Error\u001b[0m\n"
     ]
    }
   ],
   "source": [
    "flow.get_Features()"
   ]
  },
  {
   "cell_type": "code",
   "execution_count": 9,
   "metadata": {},
   "outputs": [
    {
     "name": "stderr",
     "output_type": "stream",
     "text": [
      "\u001b[32m2023-06-18 16:50:09.486\u001b[0m | \u001b[32m\u001b[1mSUCCESS \u001b[0m | \u001b[36mflow\u001b[0m:\u001b[36mnormalize_data\u001b[0m:\u001b[36m481\u001b[0m - \u001b[32m\u001b[1mReading the CVS Files Succesfully\u001b[0m\n",
      "\u001b[32m2023-06-18 16:50:10.612\u001b[0m | \u001b[32m\u001b[1mSUCCESS \u001b[0m | \u001b[36mflow\u001b[0m:\u001b[36mnormalize_data\u001b[0m:\u001b[36m495\u001b[0m - \u001b[32m\u001b[1mTerminated without any Errors\u001b[0m\n"
     ]
    }
   ],
   "source": [
    "flow.normalize_data()"
   ]
  },
  {
   "attachments": {},
   "cell_type": "markdown",
   "metadata": {},
   "source": [
    "## Machine Learning"
   ]
  },
  {
   "cell_type": "code",
   "execution_count": 13,
   "metadata": {},
   "outputs": [
    {
     "name": "stderr",
     "output_type": "stream",
     "text": [
      "\u001b[32m2023-06-18 18:46:13.567\u001b[0m | \u001b[1mINFO    \u001b[0m | \u001b[36mflow\u001b[0m:\u001b[36mML\u001b[0m:\u001b[36m463\u001b[0m - \u001b[1mCreating the Machine Learning\u001b[0m\n",
      "\u001b[32m2023-06-18 18:46:14.052\u001b[0m | \u001b[34m\u001b[1mDEBUG   \u001b[0m | \u001b[36mflow\u001b[0m:\u001b[36mML\u001b[0m:\u001b[36m472\u001b[0m - \u001b[34m\u001b[1mColumns of neg:\u001b[0m\n",
      "\u001b[32m2023-06-18 18:46:14.053\u001b[0m | \u001b[34m\u001b[1mDEBUG   \u001b[0m | \u001b[36mflow\u001b[0m:\u001b[36mML\u001b[0m:\u001b[36m473\u001b[0m - \u001b[34m\u001b[1mIndex([ 0,  1,  2,  3,  4,  5,  6,  7,  8,  9, 10, 11, 12, 13, 14, 15, 16, 17,\n",
      "       18, 19, 20, 21, 22, 23, 24, 25, 26, 27, 28, 29, 30, 31, 32, 33, 34, 35,\n",
      "       36, 37, 38, 39],\n",
      "      dtype='int64')\u001b[0m\n",
      "\u001b[32m2023-06-18 18:46:14.054\u001b[0m | \u001b[34m\u001b[1mDEBUG   \u001b[0m | \u001b[36mflow\u001b[0m:\u001b[36mML\u001b[0m:\u001b[36m475\u001b[0m - \u001b[34m\u001b[1m\n",
      "Columns of pos:\u001b[0m\n",
      "\u001b[32m2023-06-18 18:46:14.054\u001b[0m | \u001b[34m\u001b[1mDEBUG   \u001b[0m | \u001b[36mflow\u001b[0m:\u001b[36mML\u001b[0m:\u001b[36m476\u001b[0m - \u001b[34m\u001b[1mIndex([ 0,  1,  2,  3,  4,  5,  6,  7,  8,  9, 10, 11, 12, 13, 14, 15, 16, 17,\n",
      "       18, 19, 20, 21, 22, 23, 24, 25, 26, 27, 28, 29, 30, 31, 32, 33, 34, 35,\n",
      "       36, 37, 38, 39],\n",
      "      dtype='int64')\u001b[0m\n",
      "\u001b[32m2023-06-18 18:46:14.060\u001b[0m | \u001b[1mINFO    \u001b[0m | \u001b[36mmachine_learning\u001b[0m:\u001b[36m__init__\u001b[0m:\u001b[36m21\u001b[0m - \u001b[1m{'classifiers': [{'name': 'Logistic Regression', 'model': LogisticRegression(), 'params': {'C': [0.01, 0.1, 1, 10, 100], 'max_iter': [1000000]}}, {'name': 'Random Forest', 'model': RandomForestClassifier(), 'params': {'n_estimators': [50, 100, 200], 'random_state': [42]}}, {'name': 'Naive Bayes', 'model': GaussianNB(), 'params': {'var_smoothing': [1e-09, 1e-08, 1e-07]}}, {'name': 'K-neighbors', 'model': KNeighborsClassifier(), 'params': {'n_neighbors': [3, 4, 5, 7], 'weights': ['uniform', 'distance'], 'algorithm': ['ball_tree', 'kd_tree']}}], 'results': None, 'best_classifier': None, 'X_train':             0         1         2         3         4         5         6    \n",
      "0     0.209302  0.278707  0.007066  0.475025  0.073529  0.209302  0.279073  \\\n",
      "1     0.500000  0.699707  0.000831  0.429284  0.019608  0.750000  0.666510   \n",
      "2     0.842576  0.837341  0.001143  0.744319  0.014706  0.492958  0.774894   \n",
      "3     0.800880  0.280675  0.009368  0.062400  0.080294  0.539052  0.258468   \n",
      "4     0.718208  0.346390  0.018011  0.173122  0.088235  0.414782  0.259964   \n",
      "...        ...       ...       ...       ...       ...       ...       ...   \n",
      "8269  0.859789  0.416518  0.004557  0.106355  0.053046  0.607700  0.318266   \n",
      "8270  1.000000  1.000000  0.000000  1.000000  0.000000  1.000000  1.000000   \n",
      "8271  0.815367  0.475350  0.005632  0.125151  0.053676  0.855825  0.335816   \n",
      "8272  0.906004  0.271352  0.016247  0.030825  0.099822  0.894386  0.248823   \n",
      "8273  0.805089  0.577246  0.004676  0.186835  0.039706  0.657448  0.364297   \n",
      "\n",
      "            7         8         9   ...        30        31        32   \n",
      "0     0.003655  0.478040  0.052356  ...  1.000000  0.000000  0.000000  \\\n",
      "1     0.000287  0.558788  0.013962  ...  1.000000  0.000000  0.000000   \n",
      "2     0.000967  0.751011  0.015707  ...  0.496124  0.267692  0.003623   \n",
      "3     0.011996  0.073158  0.081152  ...  0.445926  0.180234  0.010566   \n",
      "4     0.015383  0.228104  0.088424  ...  0.908537  0.214706  0.002612   \n",
      "...        ...       ...       ...  ...       ...       ...       ...   \n",
      "8269  0.006476  0.113662  0.055410  ...  0.499776  0.214373  0.007499   \n",
      "8270  0.000000  1.000000  0.000000  ...  1.000000  1.000000  0.000000   \n",
      "8271  0.002002  0.144897  0.038613  ...  0.248780  0.092372  0.010431   \n",
      "8272  0.009308  0.034586  0.075244  ...  0.796553  0.168125  0.014447   \n",
      "8273  0.004656  0.130634  0.050262  ...  0.556604  0.253447  0.006112   \n",
      "\n",
      "            33        34        35        36        37        38        39  \n",
      "0     0.000000  0.000000  1.000000  0.000000  0.000000  0.000000  0.000000  \n",
      "1     0.000000  0.000000  1.000000  0.000000  0.000000  0.000000  0.000000  \n",
      "2     0.400000  0.054019  0.406977  0.689744  0.003212  0.687184  0.031746  \n",
      "3     0.133631  0.085439  0.582947  0.267044  0.012601  0.120275  0.085631  \n",
      "4     0.353553  0.048232  0.581769  0.041169  0.016582  0.353553  0.125000  \n",
      "...        ...       ...       ...       ...       ...       ...       ...  \n",
      "8269  0.170103  0.071275  0.436128  0.166436  0.012585  0.164130  0.093197  \n",
      "8270  1.000000  0.000000  1.000000  1.000000  0.000000  1.000000  0.000000  \n",
      "8271  0.184257  0.091104  0.207669  0.305709  0.013282  0.193429  0.088435  \n",
      "8272  0.067635  0.099832  0.693722  0.118424  0.035289  0.066649  0.147944  \n",
      "8273  0.137870  0.065595  0.578986  0.249268  0.008503  0.130289  0.074956  \n",
      "\n",
      "[93216 rows x 40 columns], 'y_train': 0       0.0\n",
      "1       0.0\n",
      "2       0.0\n",
      "3       0.0\n",
      "4       0.0\n",
      "       ... \n",
      "8269    1.0\n",
      "8270    1.0\n",
      "8271    1.0\n",
      "8272    1.0\n",
      "8273    1.0\n",
      "Length: 93216, dtype: float64}\u001b[0m\n"
     ]
    },
    {
     "name": "stdout",
     "output_type": "stream",
     "text": [
      "Fitting 20 folds for each of 5 candidates, totalling 100 fits\n",
      "Fitting 20 folds for each of 3 candidates, totalling 60 fits\n",
      "Fitting 20 folds for each of 3 candidates, totalling 60 fits\n",
      "Fitting 20 folds for each of 16 candidates, totalling 320 fits\n"
     ]
    },
    {
     "name": "stderr",
     "output_type": "stream",
     "text": [
      "\u001b[32m2023-06-18 19:31:50.545\u001b[0m | \u001b[1mINFO    \u001b[0m | \u001b[36mmachine_learning\u001b[0m:\u001b[36mevaluate\u001b[0m:\u001b[36m55\u001b[0m - \u001b[1mSaving best Classifiier...\u001b[0m\n"
     ]
    },
    {
     "name": "stdout",
     "output_type": "stream",
     "text": [
      "            Classifier                                     Best Estimator   \n",
      "0  Logistic Regression       LogisticRegression(C=0.01, max_iter=1000000)  \\\n",
      "1        Random Forest  (DecisionTreeClassifier(max_features='sqrt', r...   \n",
      "2          Naive Bayes                    GaussianNB(var_smoothing=1e-07)   \n",
      "3          K-neighbors  KNeighborsClassifier(algorithm='ball_tree', n_...   \n",
      "\n",
      "        AUC  \n",
      "0  0.139378  \n",
      "1  0.900000  \n",
      "2  0.133290  \n",
      "3  0.484357  \n"
     ]
    },
    {
     "ename": "KeyError",
     "evalue": "'AUPR'",
     "output_type": "error",
     "traceback": [
      "\u001b[0;31m---------------------------------------------------------------------------\u001b[0m",
      "\u001b[0;31mKeyError\u001b[0m                                  Traceback (most recent call last)",
      "File \u001b[0;32m~/.local/lib/python3.10/site-packages/pandas/core/indexes/base.py:3652\u001b[0m, in \u001b[0;36mIndex.get_loc\u001b[0;34m(self, key)\u001b[0m\n\u001b[1;32m   3651\u001b[0m \u001b[39mtry\u001b[39;00m:\n\u001b[0;32m-> 3652\u001b[0m     \u001b[39mreturn\u001b[39;00m \u001b[39mself\u001b[39;49m\u001b[39m.\u001b[39;49m_engine\u001b[39m.\u001b[39;49mget_loc(casted_key)\n\u001b[1;32m   3653\u001b[0m \u001b[39mexcept\u001b[39;00m \u001b[39mKeyError\u001b[39;00m \u001b[39mas\u001b[39;00m err:\n",
      "File \u001b[0;32m~/.local/lib/python3.10/site-packages/pandas/_libs/index.pyx:147\u001b[0m, in \u001b[0;36mpandas._libs.index.IndexEngine.get_loc\u001b[0;34m()\u001b[0m\n",
      "File \u001b[0;32m~/.local/lib/python3.10/site-packages/pandas/_libs/index.pyx:176\u001b[0m, in \u001b[0;36mpandas._libs.index.IndexEngine.get_loc\u001b[0;34m()\u001b[0m\n",
      "File \u001b[0;32mpandas/_libs/hashtable_class_helper.pxi:7080\u001b[0m, in \u001b[0;36mpandas._libs.hashtable.PyObjectHashTable.get_item\u001b[0;34m()\u001b[0m\n",
      "File \u001b[0;32mpandas/_libs/hashtable_class_helper.pxi:7088\u001b[0m, in \u001b[0;36mpandas._libs.hashtable.PyObjectHashTable.get_item\u001b[0;34m()\u001b[0m\n",
      "\u001b[0;31mKeyError\u001b[0m: 'AUPR'",
      "\nThe above exception was the direct cause of the following exception:\n",
      "\u001b[0;31mKeyError\u001b[0m                                  Traceback (most recent call last)",
      "Cell \u001b[0;32mIn[13], line 1\u001b[0m\n\u001b[0;32m----> 1\u001b[0m flow\u001b[39m.\u001b[39;49mML()\n",
      "File \u001b[0;32m~/Documents/MAIA/2-Semester/ImageAnalysis/Project/RetinaSegmentation-HEx/code/flow.py:509\u001b[0m, in \u001b[0;36mpipeline.ML\u001b[0;34m(self)\u001b[0m\n\u001b[1;32m    506\u001b[0m \u001b[39mprint\u001b[39m(evaluator\u001b[39m.\u001b[39mresults)\n\u001b[1;32m    508\u001b[0m \u001b[39m# Print information about the best classifier\u001b[39;00m\n\u001b[0;32m--> 509\u001b[0m evaluator\u001b[39m.\u001b[39;49mprint_best_classifier_info()\n\u001b[1;32m    511\u001b[0m \u001b[39m# Plot ROC curve for the best classifier\u001b[39;00m\n\u001b[1;32m    513\u001b[0m evaluator\u001b[39m.\u001b[39mplot_roc_curve_training()\n",
      "File \u001b[0;32m~/Documents/MAIA/2-Semester/ImageAnalysis/Project/RetinaSegmentation-HEx/code/machine_learning.py:67\u001b[0m, in \u001b[0;36mBinaryClassifierEvaluator.print_best_classifier_info\u001b[0;34m(self)\u001b[0m\n\u001b[1;32m     65\u001b[0m best_clf \u001b[39m=\u001b[39m \u001b[39mself\u001b[39m\u001b[39m.\u001b[39mbest_classifier[\u001b[39m'\u001b[39m\u001b[39mBest Estimator\u001b[39m\u001b[39m'\u001b[39m]\n\u001b[1;32m     66\u001b[0m best_params \u001b[39m=\u001b[39m best_clf\u001b[39m.\u001b[39mget_params()\n\u001b[0;32m---> 67\u001b[0m best_auc \u001b[39m=\u001b[39m \u001b[39mself\u001b[39;49m\u001b[39m.\u001b[39;49mbest_classifier[\u001b[39m'\u001b[39;49m\u001b[39mAUPR\u001b[39;49m\u001b[39m'\u001b[39;49m]\n\u001b[1;32m     69\u001b[0m \u001b[39mprint\u001b[39m(\u001b[39m\"\u001b[39m\u001b[39mBest Classifier:\u001b[39m\u001b[39m\"\u001b[39m)\n\u001b[1;32m     70\u001b[0m \u001b[39mprint\u001b[39m(\u001b[39m\"\u001b[39m\u001b[39m  Name:\u001b[39m\u001b[39m\"\u001b[39m, \u001b[39mself\u001b[39m\u001b[39m.\u001b[39mbest_classifier[\u001b[39m'\u001b[39m\u001b[39mClassifier\u001b[39m\u001b[39m'\u001b[39m])\n",
      "File \u001b[0;32m~/.local/lib/python3.10/site-packages/pandas/core/series.py:1007\u001b[0m, in \u001b[0;36mSeries.__getitem__\u001b[0;34m(self, key)\u001b[0m\n\u001b[1;32m   1004\u001b[0m     \u001b[39mreturn\u001b[39;00m \u001b[39mself\u001b[39m\u001b[39m.\u001b[39m_values[key]\n\u001b[1;32m   1006\u001b[0m \u001b[39melif\u001b[39;00m key_is_scalar:\n\u001b[0;32m-> 1007\u001b[0m     \u001b[39mreturn\u001b[39;00m \u001b[39mself\u001b[39;49m\u001b[39m.\u001b[39;49m_get_value(key)\n\u001b[1;32m   1009\u001b[0m \u001b[39mif\u001b[39;00m is_hashable(key):\n\u001b[1;32m   1010\u001b[0m     \u001b[39m# Otherwise index.get_value will raise InvalidIndexError\u001b[39;00m\n\u001b[1;32m   1011\u001b[0m     \u001b[39mtry\u001b[39;00m:\n\u001b[1;32m   1012\u001b[0m         \u001b[39m# For labels that don't resolve as scalars like tuples and frozensets\u001b[39;00m\n",
      "File \u001b[0;32m~/.local/lib/python3.10/site-packages/pandas/core/series.py:1116\u001b[0m, in \u001b[0;36mSeries._get_value\u001b[0;34m(self, label, takeable)\u001b[0m\n\u001b[1;32m   1113\u001b[0m     \u001b[39mreturn\u001b[39;00m \u001b[39mself\u001b[39m\u001b[39m.\u001b[39m_values[label]\n\u001b[1;32m   1115\u001b[0m \u001b[39m# Similar to Index.get_value, but we do not fall back to positional\u001b[39;00m\n\u001b[0;32m-> 1116\u001b[0m loc \u001b[39m=\u001b[39m \u001b[39mself\u001b[39;49m\u001b[39m.\u001b[39;49mindex\u001b[39m.\u001b[39;49mget_loc(label)\n\u001b[1;32m   1118\u001b[0m \u001b[39mif\u001b[39;00m is_integer(loc):\n\u001b[1;32m   1119\u001b[0m     \u001b[39mreturn\u001b[39;00m \u001b[39mself\u001b[39m\u001b[39m.\u001b[39m_values[loc]\n",
      "File \u001b[0;32m~/.local/lib/python3.10/site-packages/pandas/core/indexes/base.py:3654\u001b[0m, in \u001b[0;36mIndex.get_loc\u001b[0;34m(self, key)\u001b[0m\n\u001b[1;32m   3652\u001b[0m     \u001b[39mreturn\u001b[39;00m \u001b[39mself\u001b[39m\u001b[39m.\u001b[39m_engine\u001b[39m.\u001b[39mget_loc(casted_key)\n\u001b[1;32m   3653\u001b[0m \u001b[39mexcept\u001b[39;00m \u001b[39mKeyError\u001b[39;00m \u001b[39mas\u001b[39;00m err:\n\u001b[0;32m-> 3654\u001b[0m     \u001b[39mraise\u001b[39;00m \u001b[39mKeyError\u001b[39;00m(key) \u001b[39mfrom\u001b[39;00m \u001b[39merr\u001b[39;00m\n\u001b[1;32m   3655\u001b[0m \u001b[39mexcept\u001b[39;00m \u001b[39mTypeError\u001b[39;00m:\n\u001b[1;32m   3656\u001b[0m     \u001b[39m# If we have a listlike key, _check_indexing_error will raise\u001b[39;00m\n\u001b[1;32m   3657\u001b[0m     \u001b[39m#  InvalidIndexError. Otherwise we fall through and re-raise\u001b[39;00m\n\u001b[1;32m   3658\u001b[0m     \u001b[39m#  the TypeError.\u001b[39;00m\n\u001b[1;32m   3659\u001b[0m     \u001b[39mself\u001b[39m\u001b[39m.\u001b[39m_check_indexing_error(key)\n",
      "\u001b[0;31mKeyError\u001b[0m: 'AUPR'"
     ]
    }
   ],
   "source": [
    "flow.ML()"
   ]
  }
 ],
 "metadata": {
  "kernelspec": {
   "display_name": "Python 3",
   "language": "python",
   "name": "python3"
  },
  "language_info": {
   "codemirror_mode": {
    "name": "ipython",
    "version": 3
   },
   "file_extension": ".py",
   "mimetype": "text/x-python",
   "name": "python",
   "nbconvert_exporter": "python",
   "pygments_lexer": "ipython3",
   "version": "3.10.6"
  },
  "orig_nbformat": 4
 },
 "nbformat": 4,
 "nbformat_minor": 2
}
