{
 "cells": [
  {
   "cell_type": "code",
   "execution_count": 10,
   "metadata": {},
   "outputs": [],
   "source": [
    "import cv2\n",
    "import os\n",
    "import numpy as np\n",
    "import matplotlib.pyplot as plt\n",
    "\n",
    "# # Display the result\n",
    "# cv2.imshow('Result', result)\n",
    "# cv2.waitKey(0)\n",
    "# cv2.destroyAllWindows()"
   ]
  },
  {
   "cell_type": "code",
   "execution_count": 11,
   "metadata": {},
   "outputs": [],
   "source": [
    "currentpath = os.getcwd()\n",
    "def precision_score_(groundtruth_mask, pred_mask):\n",
    "    intersect = np.sum(pred_mask*groundtruth_mask)\n",
    "    total_pixel_pred = np.sum(pred_mask)\n",
    "    precision = np.mean(intersect/total_pixel_pred)\n",
    "    return round(precision, 3)\n",
    "\n",
    "def recall_score_(groundtruth_mask, pred_mask):\n",
    "    intersect = np.sum(pred_mask*groundtruth_mask)\n",
    "    total_pixel_truth = np.sum(groundtruth_mask)\n",
    "    recall = np.mean(intersect/total_pixel_truth)\n",
    "    return round(recall, 3)\n",
    "\n",
    "def imshow(img):\n",
    "    plt.imshow(img)\n",
    "    plt.show()\n",
    "\n",
    "def reportGen(info,img_path,data,data1):\n",
    "    img_list =img_path[0]\n",
    "    img_list=os.listdir(img_list)\n",
    "    precision_p=np.sum(data)/len(img_list)\n",
    "    recall_p=np.sum(data1)/len(img_list)\n",
    "    html_string='<html><head> <style>table, th, td {border: 1px solid black;border-collapse: collapse;}</style><title></title></head><body>'\n",
    "    html_string +=\"<h1>HardExudate Report</h1>\"\n",
    "    html_string +=\"<h2>Precision: \"+  str(round(precision_p,3)) +\"</h2>\"\n",
    "    html_string +=\"<h2>Recall: \"+  str(round(recall_p,3)) +\"</h2>\"\n",
    "    html_string +=\"<table><tr>\"\n",
    "    for head in range(0,len(info)):\n",
    "        html_string +=\"<th width='40%'>\"+ info[head] +\"</th>\"\n",
    "    html_string +=\"</tr>\"\n",
    "    img_list.sort()\n",
    "    for sl in range(0, len(img_list)):\n",
    "        html_string +=\"<tr>\"\n",
    "        for path in range(0, len(img_path)):\n",
    "            \n",
    "            ld=os.listdir(img_path[path])\n",
    "            html_string +=\"<td>\"+ ld[sl] +\"<br/><img width='350' src='\"+ img_path[path] + ld[sl] +\"'></td>\"\n",
    "\n",
    "        html_string +=\"<td>\"+ str(data[sl]) +\"</td>\"\n",
    "        html_string +=\"<td>\"+ str(data1[sl]) +\"</td>\"\n",
    "        html_string +=\"</tr>\"\n",
    "\n",
    "    html_string +='</table></body></html>'\n",
    "    f = open('Results/_report.html','w')\n",
    "    f.write(html_string)\n",
    "    f.close()"
   ]
  },
  {
   "cell_type": "code",
   "execution_count": 12,
   "metadata": {},
   "outputs": [
    {
     "name": "stderr",
     "output_type": "stream",
     "text": [
      "/var/folders/zp/kn2c7zks0q55p6_3s3c4b97h0000gn/T/ipykernel_1294/3917330555.py:5: RuntimeWarning: invalid value encountered in scalar divide\n",
      "  precision = np.mean(intersect/total_pixel_pred)\n"
     ]
    }
   ],
   "source": [
    "image_path = \"data/images/training/\"\n",
    "Precisions=[]\n",
    "Recalls=[]\n",
    "imgList=os.listdir(image_path)\n",
    "results=[]\n",
    "total_precision=0\n",
    "for ins in range(1,len(imgList)+1):\n",
    "    number=\"%02d\" % (ins,)\n",
    "    image_id=\"IDRiD_\"+str(number)+\".jpg\"\n",
    "    \n",
    "    # Load the retinal image\n",
    "    img = cv2.imread(image_path+image_id)\n",
    "\n",
    "\n",
    "    # Image optic disk detection\n",
    "    ye = cv2.addWeighted(R,0.73925,G,0.14675,0)\n",
    "    ye = cv2.addWeighted(ye,1,B,0.114,0)\n",
    "    (minVal, maxVal, minLoc, maxLoc) = cv2.minMaxLoc(ye)\n",
    "    cv2.circle(img,maxLoc,250,(0,0,0), -1)\n",
    "    cv2.imwrite(os.path.join('Results/OpticalDisk/Training/'+image_id),img)\n",
    "    \n",
    "    # Image preprocessing reduce noise\n",
    "    (R, G, B) = cv2.split(img) \n",
    "    clahe = cv2.createCLAHE(clipLimit=2.0, tileGridSize=(10,10))\n",
    "    clahe_applied_image = clahe.apply(G)\n",
    "    imageholder = cv2.fastNlMeansDenoising(clahe_applied_image,3,21,7)\n",
    "    cv2.imwrite(os.path.join('Results/Prepos/Training/'+image_id),imageholder)\n",
    "\n",
    "\n",
    "    # Threshold the image to create a binary mask\n",
    "    _, tresh = cv2.threshold(img,np.percentile(img,65),255,cv2.THRESH_BINARY)\n",
    "\n",
    "    # Create a structuring element for morphology operations\n",
    "    kernel = cv2.getStructuringElement(cv2.MORPH_ELLIPSE, (3,3))\n",
    "\n",
    "    # Apply morphological operations to fill holes and smooth the image\n",
    "    Opening = cv2.morphologyEx(tresh,cv2.MORPH_OPEN,kernel,iterations=1)\n",
    "    Closing = cv2.morphologyEx(Opening,cv2.MORPH_CLOSE,kernel,iterations=1)\n",
    "\n",
    "    # Find contours in the binary image\n",
    "    zeros = np.zeros((2848,4288),dtype=np.uint8)\n",
    "    # contours, hierarchy  = cv2.findContours(Closing,cv2.RETR_EXTERNAL,cv2.CHAIN_APPROX_SIMPLE)\n",
    "    # largest_countour = sorted(contours,key=cv2.contourArea)\n",
    "    # for cnt in range(0,len(largest_countour)):\n",
    "    #     cv2.drawContours(zeros,[largest_countour[cnt]],-1,(255,255,255),-1)\n",
    "\n",
    "    # Create a blank mask for the hard exudates\n",
    "    mask = np.zeros_like(img[:,:,0])\n",
    "\n",
    "    # Apply the mask to the original image\n",
    "    results = cv2.bitwise_and(img, img, mask=mask)\n",
    "    cv2.imwrite(os.path.join('Results/HardExodus/Training/'+image_id),mask)\n",
    "\n",
    "    img_groundtruths=cv2.imread(\"data/groundtruths/training/hard exudates/IDRiD_\"+str(number)+\"_EX.tif\",cv2.IMREAD_COLOR)\n",
    "    precision = precision_score_(img_groundtruths,results)\n",
    "    recall = recall_score_(img_groundtruths,results)\n",
    "    Precisions.append(precision)\n",
    "    Recalls.append(recall)\n",
    "\n",
    "tablehead=[\n",
    "    'Original Image',\n",
    "    # 'OpticalDisk',\n",
    "    'PreProcess',\n",
    "    'ImageContour',\n",
    "    'Hard Exudate',\n",
    "    'Precision',\n",
    "    'Recall']\n",
    "\n",
    "original_img=os.path.join(currentpath,'data','images','Training')+'/'\n",
    "# opticaldisk=os.path.join(currentpath,'Results','OpticalDisk','Training')+'/'\n",
    "preprocess=os.path.join(currentpath,'Results','Prepos','Training')+'/'\n",
    "contour=os.path.join(currentpath,'Results','Contour','Training')+'/'\n",
    "hardexudate=os.path.join(currentpath,'Results','HardExodus','Training')+'/'\n",
    "filepath=[original_img,preprocess, contour, hardexudate]\n",
    "reportGen(tablehead,filepath,Precisions,Recalls)\n"
   ]
  },
  {
   "cell_type": "code",
   "execution_count": 13,
   "metadata": {},
   "outputs": [
    {
     "name": "stdout",
     "output_type": "stream",
     "text": [
      "0.0\n"
     ]
    }
   ],
   "source": [
    "print(total_precision/len(imgList))"
   ]
  }
 ],
 "metadata": {
  "kernelspec": {
   "display_name": "venv",
   "language": "python",
   "name": "python3"
  },
  "language_info": {
   "codemirror_mode": {
    "name": "ipython",
    "version": 3
   },
   "file_extension": ".py",
   "mimetype": "text/x-python",
   "name": "python",
   "nbconvert_exporter": "python",
   "pygments_lexer": "ipython3",
   "version": "3.9.13"
  },
  "orig_nbformat": 4
 },
 "nbformat": 4,
 "nbformat_minor": 2
}
