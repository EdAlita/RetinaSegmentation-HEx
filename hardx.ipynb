{
 "cells": [
  {
   "cell_type": "code",
   "execution_count": 11,
   "metadata": {},
   "outputs": [],
   "source": [
    "# import lib \n",
    "from glob import glob\n",
    "import cv2\n",
    "import logging\n",
    "import time\n",
    "import sys\n",
    "import os\n",
    "import logging\n",
    "import enlighten\n",
    "import numpy as np"
   ]
  },
  {
   "cell_type": "code",
   "execution_count": 15,
   "metadata": {},
   "outputs": [
    {
     "data": {
      "text/html": [
       "<style>\n",
       "</style>\n",
       "<div class=\"enlighten\">\n",
       "  <div class=\"enlighten-bar\">\n",
       "    <pre>Processing step:   4%|█▊                                         |  1/24 [00:07&lt;02:43, 0.14 ticks/s]</pre>\n",
       "  </div>\n",
       "</div>\n"
      ],
      "text/plain": [
       "<IPython.core.display.HTML object>"
      ]
     },
     "metadata": {},
     "output_type": "display_data"
    }
   ],
   "source": [
    "# path settings \n",
    "testpath='data/images/test/'\n",
    "trainingpath='data/images/training/'\n",
    "logging.basicConfig(level=logging.INFO)\n",
    "logger = logging.getLogger()\n",
    "# Setup progress bar\n",
    "manager = enlighten.get_manager()\n",
    "pbar = manager.counter(total=24, desc='Processing step:', unit='ticks')\n"
   ]
  },
  {
   "cell_type": "code",
   "execution_count": 16,
   "metadata": {},
   "outputs": [
    {
     "name": "stderr",
     "output_type": "stream",
     "text": [
      "INFO:root:Processing step 55\n"
     ]
    }
   ],
   "source": [
    "def rgb2gray():\n",
    "      for imsl in range(55,79):\n",
    "        img=cv2.imread(testpath +\"IDRiD_\"+ str(imsl) +\".jpg\")\n",
    "        gray = cv2.cvtColor(img, cv2.COLOR_BGR2GRAY)\n",
    "        cv2.imwrite(\"result/gray/IDRiD_\"+ str(imsl) +\".jpg\",gray)\n",
    "        ret,thresh = cv2.threshold(gray, 100, 255, cv2.THRESH_BINARY)\n",
    "        cv2.imwrite(\"result/thresh/IDRiD_\"+ str(imsl) +\".jpg\",thresh)\n",
    "        thresh = cv2.medianBlur(thresh, 5)\n",
    "        cv2.imwrite(\"result/median/IDRiD_\"+ str(imsl) +\".jpg\",thresh)\n",
    "\n",
    "        contours, hierarchy = cv2.findContours(thresh, cv2.RETR_TREE, cv2.CHAIN_APPROX_SIMPLE)\n",
    "\n",
    "        # Draw the contours on the original image\n",
    "        cv2.drawContours(gray, contours, -1, (0, 0, 255), 2)\n",
    "        cv2.imwrite(\"result/contours/IDRiD_\"+ str(imsl) +\".jpg\",gray)\n",
    "\n",
    "        logger.info(\"Processing step %s\" % imsl)\n",
    "        pbar.update()\n",
    "\n",
    "rgb2gray()"
   ]
  }
 ],
 "metadata": {
  "kernelspec": {
   "display_name": "venv",
   "language": "python",
   "name": "python3"
  },
  "language_info": {
   "codemirror_mode": {
    "name": "ipython",
    "version": 3
   },
   "file_extension": ".py",
   "mimetype": "text/x-python",
   "name": "python",
   "nbconvert_exporter": "python",
   "pygments_lexer": "ipython3",
   "version": "3.9.13"
  },
  "orig_nbformat": 4
 },
 "nbformat": 4,
 "nbformat_minor": 2
}
