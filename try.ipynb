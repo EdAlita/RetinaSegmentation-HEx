{
 "cells": [
  {
   "cell_type": "code",
   "execution_count": 3,
   "metadata": {},
   "outputs": [
    {
     "name": "stderr",
     "output_type": "stream",
     "text": [
      "/Users/taiaburrahman/Desktop/git/RetinaSegmentation-HEx/venv/lib/python3.9/site-packages/skimage/feature/__init__.py:35: skimage_deprecation: Function ``greycomatrix`` is deprecated and will be removed in version 1.0. Use ``skimage.feature.graycomatrix`` instead.\n",
      "  removed_version='1.0')\n"
     ]
    },
    {
     "ename": "ValueError",
     "evalue": "The parameter `image` must be a 2-dimensional array",
     "output_type": "error",
     "traceback": [
      "\u001b[0;31m---------------------------------------------------------------------------\u001b[0m",
      "\u001b[0;31mValueError\u001b[0m                                Traceback (most recent call last)",
      "Cell \u001b[0;32mIn[3], line 11\u001b[0m\n\u001b[1;32m      9\u001b[0m angles \u001b[39m=\u001b[39m [\u001b[39m0\u001b[39m, np\u001b[39m.\u001b[39mpi\u001b[39m/\u001b[39m\u001b[39m4\u001b[39m, np\u001b[39m.\u001b[39mpi\u001b[39m/\u001b[39m\u001b[39m2\u001b[39m, \u001b[39m3\u001b[39m\u001b[39m*\u001b[39mnp\u001b[39m.\u001b[39mpi\u001b[39m/\u001b[39m\u001b[39m4\u001b[39m]\n\u001b[1;32m     10\u001b[0m properties \u001b[39m=\u001b[39m [\u001b[39m'\u001b[39m\u001b[39mcontrast\u001b[39m\u001b[39m'\u001b[39m, \u001b[39m'\u001b[39m\u001b[39mdissimilarity\u001b[39m\u001b[39m'\u001b[39m, \u001b[39m'\u001b[39m\u001b[39mhomogeneity\u001b[39m\u001b[39m'\u001b[39m, \u001b[39m'\u001b[39m\u001b[39menergy\u001b[39m\u001b[39m'\u001b[39m, \u001b[39m'\u001b[39m\u001b[39mcorrelation\u001b[39m\u001b[39m'\u001b[39m]\n\u001b[0;32m---> 11\u001b[0m glcm \u001b[39m=\u001b[39m greycomatrix(image, distances\u001b[39m=\u001b[39;49mdistances, angles\u001b[39m=\u001b[39;49mangles, symmetric\u001b[39m=\u001b[39;49m\u001b[39mTrue\u001b[39;49;00m, normed\u001b[39m=\u001b[39;49m\u001b[39mTrue\u001b[39;49;00m)\n\u001b[1;32m     12\u001b[0m features \u001b[39m=\u001b[39m {prop: skimage\u001b[39m.\u001b[39mfeature\u001b[39m.\u001b[39mgreycoprops(glcm, prop)[\u001b[39m0\u001b[39m, \u001b[39m0\u001b[39m] \u001b[39mfor\u001b[39;00m prop \u001b[39min\u001b[39;00m properties}\n",
      "File \u001b[0;32m~/Desktop/git/RetinaSegmentation-HEx/venv/lib/python3.9/site-packages/skimage/_shared/utils.py:480\u001b[0m, in \u001b[0;36mdeprecated.__call__.<locals>.wrapped\u001b[0;34m(*args, **kwargs)\u001b[0m\n\u001b[1;32m    478\u001b[0m \u001b[39melif\u001b[39;00m \u001b[39mself\u001b[39m\u001b[39m.\u001b[39mbehavior \u001b[39m==\u001b[39m \u001b[39m'\u001b[39m\u001b[39mraise\u001b[39m\u001b[39m'\u001b[39m:\n\u001b[1;32m    479\u001b[0m     \u001b[39mraise\u001b[39;00m skimage_deprecation(msg)\n\u001b[0;32m--> 480\u001b[0m \u001b[39mreturn\u001b[39;00m func(\u001b[39m*\u001b[39;49margs, \u001b[39m*\u001b[39;49m\u001b[39m*\u001b[39;49mkwargs)\n",
      "File \u001b[0;32m~/Desktop/git/RetinaSegmentation-HEx/venv/lib/python3.9/site-packages/skimage/feature/__init__.py:38\u001b[0m, in \u001b[0;36mgreycomatrix\u001b[0;34m(image, distances, angles, levels, symmetric, normed)\u001b[0m\n\u001b[1;32m     34\u001b[0m \u001b[39m@deprecated\u001b[39m(alt_func\u001b[39m=\u001b[39m\u001b[39m'\u001b[39m\u001b[39mskimage.feature.graycomatrix\u001b[39m\u001b[39m'\u001b[39m,\n\u001b[1;32m     35\u001b[0m             removed_version\u001b[39m=\u001b[39m\u001b[39m'\u001b[39m\u001b[39m1.0\u001b[39m\u001b[39m'\u001b[39m)\n\u001b[1;32m     36\u001b[0m \u001b[39mdef\u001b[39;00m \u001b[39mgreycomatrix\u001b[39m(image, distances, angles, levels\u001b[39m=\u001b[39m\u001b[39mNone\u001b[39;00m, symmetric\u001b[39m=\u001b[39m\u001b[39mFalse\u001b[39;00m,\n\u001b[1;32m     37\u001b[0m                  normed\u001b[39m=\u001b[39m\u001b[39mFalse\u001b[39;00m):\n\u001b[0;32m---> 38\u001b[0m     \u001b[39mreturn\u001b[39;00m graycomatrix(image, distances, angles, levels, symmetric, normed)\n",
      "File \u001b[0;32m~/Desktop/git/RetinaSegmentation-HEx/venv/lib/python3.9/site-packages/skimage/feature/texture.py:107\u001b[0m, in \u001b[0;36mgraycomatrix\u001b[0;34m(image, distances, angles, levels, symmetric, normed)\u001b[0m\n\u001b[1;32m     15\u001b[0m \u001b[39mdef\u001b[39;00m \u001b[39mgraycomatrix\u001b[39m(image, distances, angles, levels\u001b[39m=\u001b[39m\u001b[39mNone\u001b[39;00m, symmetric\u001b[39m=\u001b[39m\u001b[39mFalse\u001b[39;00m,\n\u001b[1;32m     16\u001b[0m                  normed\u001b[39m=\u001b[39m\u001b[39mFalse\u001b[39;00m):\n\u001b[1;32m     17\u001b[0m \u001b[39m    \u001b[39m\u001b[39m\"\"\"Calculate the gray-level co-occurrence matrix.\u001b[39;00m\n\u001b[1;32m     18\u001b[0m \n\u001b[1;32m     19\u001b[0m \u001b[39m    A gray level co-occurrence matrix is a histogram of co-occurring\u001b[39;00m\n\u001b[0;32m   (...)\u001b[0m\n\u001b[1;32m    105\u001b[0m \n\u001b[1;32m    106\u001b[0m \u001b[39m    \"\"\"\u001b[39;00m\n\u001b[0;32m--> 107\u001b[0m     check_nD(image, \u001b[39m2\u001b[39;49m)\n\u001b[1;32m    108\u001b[0m     check_nD(distances, \u001b[39m1\u001b[39m, \u001b[39m'\u001b[39m\u001b[39mdistances\u001b[39m\u001b[39m'\u001b[39m)\n\u001b[1;32m    109\u001b[0m     check_nD(angles, \u001b[39m1\u001b[39m, \u001b[39m'\u001b[39m\u001b[39mangles\u001b[39m\u001b[39m'\u001b[39m)\n",
      "File \u001b[0;32m~/Desktop/git/RetinaSegmentation-HEx/venv/lib/python3.9/site-packages/skimage/_shared/utils.py:655\u001b[0m, in \u001b[0;36mcheck_nD\u001b[0;34m(array, ndim, arg_name)\u001b[0m\n\u001b[1;32m    653\u001b[0m     \u001b[39mraise\u001b[39;00m \u001b[39mValueError\u001b[39;00m(msg_empty_array \u001b[39m%\u001b[39m (arg_name))\n\u001b[1;32m    654\u001b[0m \u001b[39mif\u001b[39;00m array\u001b[39m.\u001b[39mndim \u001b[39mnot\u001b[39;00m \u001b[39min\u001b[39;00m ndim:\n\u001b[0;32m--> 655\u001b[0m     \u001b[39mraise\u001b[39;00m \u001b[39mValueError\u001b[39;00m(\n\u001b[1;32m    656\u001b[0m         msg_incorrect_dim \u001b[39m%\u001b[39m (arg_name, \u001b[39m'\u001b[39m\u001b[39m-or-\u001b[39m\u001b[39m'\u001b[39m\u001b[39m.\u001b[39mjoin([\u001b[39mstr\u001b[39m(n) \u001b[39mfor\u001b[39;00m n \u001b[39min\u001b[39;00m ndim]))\n\u001b[1;32m    657\u001b[0m     )\n",
      "\u001b[0;31mValueError\u001b[0m: The parameter `image` must be a 2-dimensional array"
     ]
    }
   ],
   "source": [
    "from skimage.feature import greycomatrix\n",
    "import skimage\n",
    "import cv2\n",
    "import numpy as np\n",
    "\n",
    "# Calculate the GLCM of an image\n",
    "image=cv2.imread(\"/Users/taiaburrahman/Desktop/git/RetinaSegmentation-HEx/Results/HardExodus/Tests/IDRiD_55.jpg\")\n",
    "distances = [1, 2, 3]\n",
    "angles = [0, np.pi/4, np.pi/2, 3*np.pi/4]\n",
    "properties = ['contrast', 'dissimilarity', 'homogeneity', 'energy', 'correlation']\n",
    "glcm = greycomatrix(image, distances=distances, angles=angles, symmetric=True, normed=True)\n",
    "features = {prop: skimage.feature.greycoprops(glcm, prop)[0, 0] for prop in properties}\n"
   ]
  }
 ],
 "metadata": {
  "kernelspec": {
   "display_name": "venv",
   "language": "python",
   "name": "python3"
  },
  "language_info": {
   "codemirror_mode": {
    "name": "ipython",
    "version": 3
   },
   "file_extension": ".py",
   "mimetype": "text/x-python",
   "name": "python",
   "nbconvert_exporter": "python",
   "pygments_lexer": "ipython3",
   "version": "3.9.13"
  },
  "orig_nbformat": 4
 },
 "nbformat": 4,
 "nbformat_minor": 2
}
